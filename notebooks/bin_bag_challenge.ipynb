{
 "cells": [
  {
   "cell_type": "markdown",
   "metadata": {},
   "source": [
    "# The bin bag challenge\n",
    "\n",
    "For this challenge we:\n",
    "\n",
    "- Discuss the models tested, their various trade-offs and our recommendation.\n",
    "- Demonstrate our detection capabilities by showing off an alpha-classifier trained on a small amount of training data classifying the bags below.\n",
    "- Discuss the next steps for getting this into production with First Mile.\n",
    "\n",
    "<p align=\"center\">\n",
    "  <img src=general.jpg width=\"250\" alt=\"Image 1\">\n",
    "  <img src=compostable.jpg width=\"250\" alt=\"Image 2\">\n",
    "  <img src=mixed_recycle.jpg width=\"250\" alt=\"Image 3\">\n",
    "</p>\n",
    "\n",
    "<p align=\"center\">\n",
    "  <em>General Waste | Compostable Waste | Mixed Recycling</em>\n",
    "</p>\n",
    "\n"
   ]
  },
  {
   "cell_type": "markdown",
   "metadata": {
    "jp-MarkdownHeadingCollapsed": true
   },
   "source": [
    "## Classification models\n",
    "\n",
    "2 types of models were trained for this challenge:\n",
    "1. A K-nearest-neighbour (KNN) classifier.\n",
    "2. A convolutional neural network (CNN) classifier.\n",
    "\n",
    "Both models are tested on a held out dataset to compare the accuracy of the different models. We use accuracy as our goal in this challenge. There are  other metrics we could look at in future such as precision/recall - which would be useful going into a production setting.\n",
    "\n",
    "### KNN Classifier\n",
    "\n",
    "#### Highlights\n",
    "\n",
    "- Accuracy = `0.75`\n",
    "- Provides a baseline\n",
    "- Uses colour histogram feature vectors\n",
    "- Model size scales poorly for larger training sets\n",
    "- Requires an object detector in practice\n",
    "\n",
    "Our KNN classifier sets the baseline for this challenge. It was designed to be as simple as possible to set a baseline for future models. We achieved a classification accuracy of 0.75. It utilises a set of hand-crafted features based on a colour histogram of the plastic bags (a feature is a list of numbers representing the information stored in the image). We use the brute force search algorithm for accuracy given the small number of training and test samples. In practice in production we would use the KD-tree algorithm for small feature vectors, and the ball tree algorithm for larger feature vectors to improve the speed of search.\n",
    "\n",
    "A negative of this model is that it stores the feature vector of every training image. As this moves into production and more training data is collected this scales poorly. Another issue is that in more complex scenes it would require an object detector.\n",
    "\n",
    "### CNN Classifier\n",
    "\n",
    "#### Highlights\n",
    "\n",
    "- Accuracy = `0.90`\n",
    "- Continuous training and improvement\n",
    "- Model size remains constant for larger training sets\n",
    "- Requires an object detector in practice, however this can be incorporated into the same model\n",
    "- Better generalisability\n",
    "- Generally requires more training data for good results\n",
    "\n",
    "Our CNN classifier is harder to setup and train. But it provides scope for continuous training and model improvement in production. We achieved a classification accuracy of 0.90. It requires an object detector to be run first. This is because having the object centered in the image improves the learning process. It also ensures the classifier doesn't focus on other objects in the scene.\n",
    "\n",
    "Whereas the KNN classifier scales poorly for larger training sets, the model size is fixed (unless its found greater model capacity is required to increase accuracy). In practice this model will generalise better to data outside of the captured test/train set - although we will need to capture more data working with you to prove that case.\n",
    "\n",
    "### Recommendation\n",
    "\n",
    "The CNN performs the best. It scales better as the training set size grows, and can be finetuned for continuous improvement as we find cases that are missed without complete retraining."
   ]
  },
  {
   "cell_type": "markdown",
   "metadata": {},
   "source": [
    "## Demonstration\n",
    "\n",
    "In the demonstration we will:\n",
    "* Import some libraries.\n",
    "* Explain the training process of our CNN-based classifier.\n",
    "* Demonstrate the use of cropping to improve accuracy.\n",
    "* Show the results.\n",
    "\n",
    "## Imports"
   ]
  },
  {
   "cell_type": "code",
   "execution_count": 1,
   "metadata": {},
   "outputs": [],
   "source": [
    "import time\n",
    "import numpy as np\n",
    "import pandas as pd\n",
    "import matplotlib.pyplot as plt\n",
    "from IPython.display import clear_output\n",
    "\n",
    "from recycle_eye.notebook.utils import get_nn_run, get_accuracy_df, get_loss_df, imshow\n",
    "from recycle_eye.paths import STATS_DIR, DATA_DIR, MODEL_DIR\n",
    "from recycle_eye.classifier.dataloader import (\n",
    "    BagDataset, basic_transform\n",
    ")"
   ]
  },
  {
   "cell_type": "markdown",
   "metadata": {},
   "source": [
    "## Training parameters"
   ]
  },
  {
   "cell_type": "markdown",
   "metadata": {},
   "source": [
    "We show the results from experiment with ID `20231129-10:08:38`. First we show the training parameters used for the experiment.\n",
    "\n",
    "The model is trained for 50 epochs across the training data, with a learning rate of 0.005 using stochastic gradient descent. The neural network contains 2 convolutional layers and 3 fully connected layers - so its extremely small by modern deep learning standards (only 244KB)."
   ]
  },
  {
   "cell_type": "code",
   "execution_count": 2,
   "metadata": {},
   "outputs": [
    {
     "name": "stdout",
     "output_type": "stream",
     "text": [
      "id='20231129-10:08:38' split_seed=42 test_split=0.2 remove_bg=False lr=0.005 batch_size=4 optimiser=<OptimiserType.SGD: 'sgd'> momentum=0.9 num_epochs=50 data_counts=[DataCount(ord_label=0, label='compostable_waste', count=44), DataCount(ord_label=1, label='general_waste', count=51), DataCount(ord_label=2, label='mixed_recycling', count=51)] num_iter_per_epoch=30 load_cifar_weights=False transform=<TransformType.BASIC: 'basic'> pretrained_model=None crop_image=True\n"
     ]
    }
   ],
   "source": [
    "exp_id = \"20231129-10:08:38\"\n",
    "df, params = get_nn_run(exp_id, STATS_DIR)\n",
    "print(params)"
   ]
  },
  {
   "cell_type": "markdown",
   "metadata": {},
   "source": [
    "### Loss curve\n",
    "\n",
    "The loss curve demonstrates the learning process. The model outputs the probability of each bag being the correct type. It learns (updates its parameters) by optimising a loss function called cross entropy which compares the probabilities to the ground truth labels. The idea is for it to output zero for the wrong classes, and one for the correct class.\n",
    "\n",
    "As it trains and gets more objects correct classified the loss value goes down."
   ]
  },
  {
   "cell_type": "code",
   "execution_count": null,
   "metadata": {},
   "outputs": [],
   "source": [
    "loss_df = get_loss_df(df, params)\n",
    "plt.plot(loss_df.cont_epoch, loss_df.avg_loss)"
   ]
  },
  {
   "cell_type": "markdown",
   "metadata": {},
   "source": [
    "### Accuracy against the test set\n",
    "\n",
    "At the end of each epoch we cross validate (run the model against a held out test set, and check the accuracy score). This can be shown below.\n",
    "\n",
    "As the loss goes down we see that the model performs better on data its never seen."
   ]
  },
  {
   "cell_type": "code",
   "execution_count": null,
   "metadata": {},
   "outputs": [],
   "source": [
    "accuracy_df = get_accuracy_df(df)\n",
    "plt.plot(accuracy_df[\"epoch\"], accuracy_df[\"accuracy\"])"
   ]
  },
  {
   "cell_type": "markdown",
   "metadata": {},
   "source": [
    "## Preparing the data - use of cropping\n",
    "\n",
    "Below we demonstrate the data shown to our model. For this challenge we were able to utilise the background images provided to find the bounding boxes. In practice we would use our object detectors to perform this action."
   ]
  },
  {
   "cell_type": "code",
   "execution_count": null,
   "metadata": {},
   "outputs": [],
   "source": [
    "dataset = BagDataset(\n",
    "    root_dir=str(DATA_DIR), transform=basic_transform(), crop_image=True\n",
    ")\n",
    "\n",
    "for image, _, _ in dataset:\n",
    "    clear_output(wait=True)\n",
    "    imshow(image)"
   ]
  },
  {
   "cell_type": "markdown",
   "metadata": {},
   "source": [
    "## The results"
   ]
  },
  {
   "cell_type": "code",
   "execution_count": 21,
   "metadata": {},
   "outputs": [
    {
     "data": {
      "image/png": "[encoded data removed]",
      "text/plain": [
       "<Figure size 640x480 with 1 Axes>"
      ]
     },
     "metadata": {},
     "output_type": "display_data"
    },
    {
     "data": {
      "text/plain": [
       "'Truth = mixed_recycling, predicted = general_waste, Wrong'"
      ]
     },
     "metadata": {},
     "output_type": "display_data"
    }
   ],
   "source": [
    "import torch\n",
    "\n",
    "from recycle_eye.classifier.train import get_datasets\n",
    "from recycle_eye.classifier.basic_network import Net\n",
    "\n",
    "# We only care about the test set here\n",
    "_ ,test_set = get_datasets(params, basic_transform)\n",
    "\n",
    "# Load in the model\n",
    "net = Net()\n",
    "model_path = MODEL_DIR / exp_id / \"final_bag_net.pth\"\n",
    "net.load_state_dict(torch.load(model_path))\n",
    "\n",
    "label_map = {count.ord_label: count.label for count in params.data_counts}\n",
    "\n",
    "correct = 0\n",
    "total = 0\n",
    "with torch.no_grad():\n",
    "    for data in test_set:\n",
    "        image, label, _ = data\n",
    "\n",
    "        # image display\n",
    "        time.sleep(1)\n",
    "        clear_output(wait=True)\n",
    "        imshow(image)\n",
    "        \n",
    "        # calculate outputs by running images through the network\n",
    "        output = net(torch.unsqueeze(image, 0))\n",
    "        # the class with the highest energy is what we choose as prediction\n",
    "        _, predicted = torch.max(output.data, 1)\n",
    "\n",
    "        # add to the scores\n",
    "        total += 1\n",
    "        gt = label\n",
    "        predicted = predicted.item()\n",
    "        is_correct = predicted == gt\n",
    "        correct += int(is_correct)\n",
    "\n",
    "        display_str = f\"Truth = {label_map[gt]}, predicted = {label_map[predicted]}, {'Correct' if is_correct else 'Wrong'}\"\n",
    "        display(display_str)\n",
    "\n",
    "\n",
    "accuracy = correct / total\n"
   ]
  },
  {
   "cell_type": "code",
   "execution_count": 9,
   "metadata": {},
   "outputs": [
    {
     "data": {
      "text/plain": [
       "0.896551724137931"
      ]
     },
     "execution_count": 9,
     "metadata": {},
     "output_type": "execute_result"
    }
   ],
   "source": [
    "display(\"Test images {"
   ]
  },
  {
   "cell_type": "code",
   "execution_count": null,
   "metadata": {},
   "outputs": [],
   "source": []
  }
 ],
 "metadata": {
  "kernelspec": {
   "display_name": "Python 3 (ipykernel)",
   "language": "python",
   "name": "python3"
  },
  "language_info": {
   "codemirror_mode": {
    "name": "ipython",
    "version": 3
   },
   "file_extension": ".py",
   "mimetype": "text/x-python",
   "name": "python",
   "nbconvert_exporter": "python",
   "pygments_lexer": "ipython3",
   "version": "3.11.5"
  }
 },
 "nbformat": 4,
 "nbformat_minor": 4
}
